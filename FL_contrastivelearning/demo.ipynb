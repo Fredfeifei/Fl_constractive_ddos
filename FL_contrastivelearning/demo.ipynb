{
 "cells": [
  {
   "cell_type": "code",
   "id": "initial_id",
   "metadata": {
    "collapsed": true,
    "ExecuteTime": {
     "end_time": "2024-12-16T22:35:53.553926Z",
     "start_time": "2024-12-16T22:35:47.080359Z"
    }
   },
   "source": [
    "import pandas as pd\n",
    "import numpy as np\n",
    "\n",
    "dir = \"D:\\FL_contrastivelearning\\data\\drdos_mssql.parquet\"\n",
    "df = pd.read_parquet(dir)\n",
    "\n",
    "label_column = 'label' if 'label' in df.columns else 'attack_type'\n",
    "labels = (df[label_column] != 0).astype(int)\n",
    "\n",
    "        # Print initial statistics\n",
    "n_benign = np.sum(labels == 0)\n",
    "n_attack = np.sum(labels == 1)\n",
    "print(f\"Initial class distribution:\")\n",
    "print(f\"Benign traffic: {n_benign} samples\")\n",
    "print(f\"Attack traffic: {n_attack} samples\")"
   ],
   "outputs": [
    {
     "name": "stdout",
     "output_type": "stream",
     "text": [
      "Initial class distribution:\n",
      "Benign traffic: 2006 samples\n",
      "Attack traffic: 4522492 samples\n"
     ]
    }
   ],
   "execution_count": 3
  },
  {
   "metadata": {
    "ExecuteTime": {
     "end_time": "2024-12-18T06:42:31.094234Z",
     "start_time": "2024-12-18T06:42:31.078235Z"
    }
   },
   "cell_type": "code",
   "source": [
    "from config import TrainingConfig\n",
    "import os\n",
    "\n",
    "ROOT = TrainingConfig.data_root\n",
    "a = [attack.split(\".\")[0][:-10] for attack in os.listdir(ROOT) if attack.endswith('.parquet')]\n",
    "a"
   ],
   "id": "bd9d8cd91c826aeb",
   "outputs": [
    {
     "data": {
      "text/plain": [
       "['drdos_dns',\n",
       " 'drdos_ldap',\n",
       " 'drdos_mssql',\n",
       " 'drdos_netbios',\n",
       " 'drdos_ntp',\n",
       " 'drdos_snmp',\n",
       " 'drdos_ssdp',\n",
       " 'drdos_udp',\n",
       " 'syn']"
      ]
     },
     "execution_count": 2,
     "metadata": {},
     "output_type": "execute_result"
    }
   ],
   "execution_count": 2
  },
  {
   "metadata": {
    "ExecuteTime": {
     "end_time": "2024-12-17T22:24:52.535981Z",
     "start_time": "2024-12-17T22:24:46.484939Z"
    }
   },
   "cell_type": "code",
   "source": [
    "    ROOT = TrainingConfig.data_root\n",
    "    attack_types = [attack.split(\".\")[0][:-10] for attack in os.listdir(ROOT)]"
   ],
   "id": "15a594f041a43b6d",
   "outputs": [
    {
     "data": {
      "text/plain": [
       "87"
      ]
     },
     "execution_count": 11,
     "metadata": {},
     "output_type": "execute_result"
    }
   ],
   "execution_count": 11
  }
 ],
 "metadata": {
  "kernelspec": {
   "display_name": "Python 3",
   "language": "python",
   "name": "python3"
  },
  "language_info": {
   "codemirror_mode": {
    "name": "ipython",
    "version": 2
   },
   "file_extension": ".py",
   "mimetype": "text/x-python",
   "name": "python",
   "nbconvert_exporter": "python",
   "pygments_lexer": "ipython2",
   "version": "2.7.6"
  }
 },
 "nbformat": 4,
 "nbformat_minor": 5
}
